{
 "cells": [
  {
   "cell_type": "markdown",
   "id": "1eb186a5-2eef-4a23-95c8-7ab6ab8453d8",
   "metadata": {},
   "source": [
    "# WEB SCRAPPING IMDB TOP 250 MOVIES AND THERE CAST"
   ]
  },
  {
   "cell_type": "markdown",
   "id": "8e8cd145-e27c-4722-84c3-84f9e5729579",
   "metadata": {},
   "source": [
    "### Required Libraries"
   ]
  },
  {
   "cell_type": "code",
   "execution_count": null,
   "id": "b3679787-5d1a-44fd-87a0-71f04cd13ca3",
   "metadata": {},
   "outputs": [],
   "source": [
    "import requests\n",
    "from bs4 import BeautifulSoup as bs\n",
    "import pandas as pd\n",
    "import re"
   ]
  },
  {
   "cell_type": "code",
   "execution_count": null,
   "id": "348c1f84-d1ec-4fd4-befa-899d87ff1924",
   "metadata": {},
   "outputs": [],
   "source": [
    "headers = {\n",
    "    'User-Agent': 'Brave (Windows NT 6.1) AppleWebKit/537.36 (KHTML, like Gecko) Chrome/41.0.2228.0 Safari/537.36'\n",
    "}"
   ]
  },
  {
   "cell_type": "code",
   "execution_count": null,
   "id": "4aad327a-7db7-4649-9401-a3da4007e993",
   "metadata": {},
   "outputs": [],
   "source": [
    "url=\" https://www.imdb.com/chart/top/?ref_=nv_mv_250\""
   ]
  },
  {
   "cell_type": "code",
   "execution_count": null,
   "id": "be874802-9ee0-40c9-81dd-57bbce6bfdbe",
   "metadata": {},
   "outputs": [],
   "source": [
    "response=requests.get(url,headers=headers) #requesting the url for accesssing data"
   ]
  },
  {
   "cell_type": "code",
   "execution_count": null,
   "id": "74b8d006-3f6a-48b1-854c-b3019808b66c",
   "metadata": {},
   "outputs": [],
   "source": [
    "response #checking the connection status"
   ]
  },
  {
   "cell_type": "code",
   "execution_count": null,
   "id": "10175da4-d5a0-4dc2-aee3-65f6e81952f1",
   "metadata": {
    "scrolled": true
   },
   "outputs": [],
   "source": [
    "response.content"
   ]
  },
  {
   "cell_type": "code",
   "execution_count": null,
   "id": "fe8b5488-6806-4eef-b5be-2722194fa134",
   "metadata": {},
   "outputs": [],
   "source": [
    "soup=bs(response.content,'html.parser') #parsing the elements in html "
   ]
  },
  {
   "cell_type": "code",
   "execution_count": null,
   "id": "77966968-f5a9-41b6-8264-73b33ed2dde2",
   "metadata": {},
   "outputs": [],
   "source": [
    "soup"
   ]
  },
  {
   "cell_type": "code",
   "execution_count": null,
   "id": "73fcf63f-206a-4f8e-8113-8c6193bc08bf",
   "metadata": {},
   "outputs": [],
   "source": [
    "soup.find_all('h3',class_='ipc-metadata-list ipc-metadata-list--dividers-between sc-a1e81754-0 eBRbsI compact-list-view ipc-metadata-list--base')"
   ]
  },
  {
   "cell_type": "code",
   "execution_count": null,
   "id": "5da16b61-f428-402c-b477-b033a4803086",
   "metadata": {},
   "outputs": [],
   "source": [
    "movie_name=[]\n",
    "for i in soup.find_all('h3'):\n",
    "    movie_name.append(i.text)"
   ]
  },
  {
   "cell_type": "code",
   "execution_count": null,
   "id": "0933d68c-ee93-4da9-b47a-a23ee03d273d",
   "metadata": {},
   "outputs": [],
   "source": [
    "print(movie_name)  #as the web page is having js the beauitiful soup cannot handle the automation so prints 25 out of 250 as the content changes dynamically"
   ]
  },
  {
   "cell_type": "markdown",
   "id": "9212a617-4ff5-431f-8763-9432d064f698",
   "metadata": {},
   "source": [
    "# Using Selenium for Interaction With Dynamic Content "
   ]
  },
  {
   "cell_type": "code",
   "execution_count": null,
   "id": "0e218cf7-891a-4914-b0ea-53178b793ed7",
   "metadata": {},
   "outputs": [],
   "source": [
    "from selenium import webdriver as wd \n"
   ]
  },
  {
   "cell_type": "code",
   "execution_count": null,
   "id": "fd1198f5-e40c-45fa-89d6-58934dced0ed",
   "metadata": {},
   "outputs": [],
   "source": [
    "driver=wd.Chrome()"
   ]
  },
  {
   "cell_type": "code",
   "execution_count": null,
   "id": "2bfd7972-1e2b-4ac9-8af5-ff7caf22ad7b",
   "metadata": {},
   "outputs": [],
   "source": [
    "driver.get(\"https://www.imdb.com/chart/top/\")"
   ]
  },
  {
   "cell_type": "code",
   "execution_count": null,
   "id": "5737cb28-b3e7-4bd9-b7f8-bf670e4c7b2b",
   "metadata": {},
   "outputs": [],
   "source": [
    "soup=bs(driver.page_source,'html.parser')"
   ]
  },
  {
   "cell_type": "code",
   "execution_count": null,
   "id": "4c4fbc11-7e70-45fe-ac05-9b7976cd2215",
   "metadata": {},
   "outputs": [],
   "source": [
    "soup"
   ]
  },
  {
   "cell_type": "code",
   "execution_count": null,
   "id": "a548ca50-2c33-4aec-9a99-c2c24a0e51d6",
   "metadata": {},
   "outputs": [],
   "source": [
    "movie_data=[]\n",
    "movie_datas=soup.find_all('li',class_='ipc-metadata-list-summary-item sc-10233bc-0 iherUv cli-parent')\n",
    "for i in movie_datas:\n",
    "    movie_data.append(i.text)\n",
    "movie_data"
   ]
  },
  {
   "cell_type": "code",
   "execution_count": null,
   "id": "b0cdf163-78ad-4713-96a2-4122470d59fc",
   "metadata": {},
   "outputs": [],
   "source": [
    "Title=[]\n",
    "YT=[]\n",
    "corrected_YT=[]\n",
    "Rating=[]\n",
    "Duration_with_year=[]\n",
    "Duration=[]\n",
    "for data in movie_data:\n",
    "    title_match=re.search(r'\\. (.+?)(?=\\d{4})', data)\n",
    "    title=title_match.group(1) if title_match else None\n",
    "    year_match=re.search(r'\\d{4}', data)\n",
    "    year=year_match.group() if year_match else None\n",
    "    duration_match = re.search(r'\\d+h \\d+m', data)\n",
    "    duration = duration_match.group() if duration_match else None\n",
    "    score_match = re.search(r'\\d\\.\\d', data)\n",
    "    score = score_match.group() if score_match else None\n",
    "    Title.append(title)\n",
    "    YT.append(str((year.split(\" \"))))\n",
    "    Rating.append(score)\n",
    "    Duration_with_year.append(duration)\n",
    "for i in Duration_with_year:\n",
    "    if i==None:\n",
    "        Duration.append(None)\n",
    "    else:\n",
    "        Duration.append(i[4:])\n",
    "for j in YT:\n",
    "    corrected_YT.append(j[2:6])"
   ]
  },
  {
   "cell_type": "code",
   "execution_count": null,
   "id": "76c189b1-73c1-4adb-b9ca-55db3b4acab0",
   "metadata": {},
   "outputs": [],
   "source": [
    "movie_titles=Title\n",
    "release_years=YT\n",
    "durations=Duration\n",
    "ratings=Rating\n",
    "assert len(movie_titles)==len(release_years)==len(durations)==len(ratings)\n",
    "data={\n",
    "'Title': movie_titles,\n",
    "'Duration': durations,\n",
    "'Score': ratings,\n",
    "'Year':corrected_YT\n",
    "}\n",
    "df=pd.DataFrame(data)\n",
    "csv_file = 'movies.csv'\n",
    "df.to_csv(csv_file, index=False, encoding='utf-8')\n",
    "print(f'Data successfully written to {csv_file}')\n"
   ]
  },
  {
   "cell_type": "code",
   "execution_count": null,
   "id": "233c43aa-461b-46ad-9155-ee33931b0855",
   "metadata": {},
   "outputs": [],
   "source": [
    "df=pd.read_csv('movies.csv')"
   ]
  },
  {
   "cell_type": "code",
   "execution_count": null,
   "id": "2812271e-4001-4c6e-a3ce-9923fa2a1c24",
   "metadata": {},
   "outputs": [],
   "source": [
    "df"
   ]
  },
  {
   "cell_type": "code",
   "execution_count": null,
   "id": "786d6e13-9253-4245-81dd-83fb271a3881",
   "metadata": {},
   "outputs": [],
   "source": [
    "driver.quit()"
   ]
  },
  {
   "cell_type": "code",
   "execution_count": null,
   "id": "1cf911d1-d61a-4f5e-89c7-0112ae9618a6",
   "metadata": {},
   "outputs": [],
   "source": []
  }
 ],
 "metadata": {
  "kernelspec": {
   "display_name": "Python 3 (ipykernel)",
   "language": "python",
   "name": "python3"
  },
  "language_info": {
   "codemirror_mode": {
    "name": "ipython",
    "version": 3
   },
   "file_extension": ".py",
   "mimetype": "text/x-python",
   "name": "python",
   "nbconvert_exporter": "python",
   "pygments_lexer": "ipython3",
   "version": "3.11.7"
  }
 },
 "nbformat": 4,
 "nbformat_minor": 5
}
